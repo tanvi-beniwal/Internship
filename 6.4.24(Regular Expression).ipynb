{
 "cells": [
  {
   "cell_type": "code",
   "execution_count": 1,
   "id": "0f115ac0",
   "metadata": {},
   "outputs": [],
   "source": [
    "import regex as re\n",
    "import pandas as pd"
   ]
  },
  {
   "cell_type": "code",
   "execution_count": 180,
   "id": "fe4c130f",
   "metadata": {},
   "outputs": [
    {
     "name": "stdout",
     "output_type": "stream",
     "text": [
      "Python:Exercises::PHP:exercises:\n"
     ]
    }
   ],
   "source": [
    "#Question 1\n",
    "def replace(input_text):\n",
    "    result=re.sub(\"[ ,.]\" , \":\",Sample_Text)\n",
    "    print(result)\n",
    "\n",
    "Sample_Text= 'Python Exercises, PHP exercises.'\n",
    "replace(Sample_Text)\n"
   ]
  },
  {
   "cell_type": "code",
   "execution_count": 181,
   "id": "02263c45",
   "metadata": {},
   "outputs": [
    {
     "name": "stdout",
     "output_type": "stream",
     "text": [
      "0             hello  world \n",
      "1                      test\n",
      "2       four  five   six   \n",
      "Name: SUMMARY, dtype: object\n"
     ]
    }
   ],
   "source": [
    "#Question 2\n",
    "df=pd.DataFrame({'SUMMARY':['hello, world!', 'XXXXX test', '123four, five:; six...']})\n",
    "df['SUMMARY'] = df['SUMMARY'].str.replace('[^a-z\\s]',\" \",regex=True)\n",
    "print(df['SUMMARY'])\n",
    "\n"
   ]
  },
  {
   "cell_type": "code",
   "execution_count": 182,
   "id": "87cf959c",
   "metadata": {},
   "outputs": [
    {
     "name": "stdout",
     "output_type": "stream",
     "text": [
      "['Data', 'Science', 'stream', 'part', 'solve', 'many', 'complex', 'problem', 'using', 'data', 'sciences', 'tools', 'tech']\n"
     ]
    }
   ],
   "source": [
    "#Question 3\n",
    "\n",
    "def find_words(input_text):\n",
    "    string_pattern=r\"\\b\\w{4,}\\b\"\n",
    "    regex_pattern=re.compile(string_pattern)\n",
    "    result=regex_pattern.findall(input_text)\n",
    "    print(result)\n",
    "\n",
    "Sample_Text=\"Data Science is a stream and it's part of AI.You can solve many complex problem using data sciences tools and tech.\" \n",
    "\n",
    "find_words(Sample_Text)"
   ]
  },
  {
   "cell_type": "code",
   "execution_count": 183,
   "id": "36d0019a",
   "metadata": {},
   "outputs": [
    {
     "name": "stdout",
     "output_type": "stream",
     "text": [
      "['Data', 'and', 'part', 'You', 'can', 'solve', 'many', 'using', 'data', 'tools', 'and', 'tech']\n"
     ]
    }
   ],
   "source": [
    "#Question 4\n",
    "\n",
    "\n",
    "def find_words_345(input_text):\n",
    "    string_pattern=r\"\\b\\w{3,5}\\b\"\n",
    "    regex_pattern=re.compile(string_pattern)\n",
    "    result=regex_pattern.findall(target_string)\n",
    "    print(result)\n",
    "    \n",
    "Sample_Text=\"Data Science is a stream and it's part of AI.You can solve many complex problem using data sciences tools and tech.\" \n",
    "\n",
    "find_words_345(Sample_Text)\n",
    "\n"
   ]
  },
  {
   "cell_type": "code",
   "execution_count": 185,
   "id": "557633c0",
   "metadata": {},
   "outputs": [
    {
     "name": "stdout",
     "output_type": "stream",
     "text": [
      "example .com\n",
      "hr@fliprobo .com\n",
      "github .com\n",
      "Hello Data Science World\n",
      "Data Scientist\n"
     ]
    }
   ],
   "source": [
    "#Question 5\n",
    "\n",
    "def remove_parentheses(input_text):\n",
    "    pattern=r\"[()]\"\n",
    "    regex_pattern=re.compile(pattern)\n",
    "\n",
    "    for w in input_text:\n",
    "        print(regex_pattern.sub(\"\",w))\n",
    "    \n",
    "\n",
    "\n",
    "Sample_Text=[\"example (.com)\", \"hr@fliprobo (.com)\", \"github (.com)\", \"Hello (Data Science World)\", \"Data (Scientist)\"]\n",
    "\n",
    "remove_parentheses(Sample_Text)"
   ]
  },
  {
   "cell_type": "code",
   "execution_count": 186,
   "id": "5496263c",
   "metadata": {},
   "outputs": [
    {
     "name": "stdout",
     "output_type": "stream",
     "text": [
      "[\"example\", \"hr@fliprobo\", \"github\", \"Hello\", \"Data\"]\n",
      "\n"
     ]
    }
   ],
   "source": [
    " #Question 6\n",
    "    \n",
    "    \n",
    "def remove_parentheses_from_file(input_file):\n",
    "    with open(input_file,'r') as hello:\n",
    "        text=hello.read()\n",
    "    pattern=r'\\([^()]*\\)'\n",
    "    extract_data = re.sub(pattern,\"\",text)\n",
    "    print(extract_data)\n",
    "    \n",
    "\n",
    "remove_parentheses_from_file('data.txt')\n",
    "\n"
   ]
  },
  {
   "cell_type": "code",
   "execution_count": 187,
   "id": "10ba9e5c",
   "metadata": {},
   "outputs": [
    {
     "name": "stdout",
     "output_type": "stream",
     "text": [
      "['Importance', 'Of', 'Regular', 'Expressions', 'In', 'Python']\n"
     ]
    }
   ],
   "source": [
    "#Question 7\n",
    "Sample_text = \"ImportanceOfRegularExpressionsInPython\"\n",
    "result=re.findall(r\"[A-Z][^A-Z]*\",Sample_text)\n",
    "print(result)\n",
    "\n",
    "    \n"
   ]
  },
  {
   "cell_type": "code",
   "execution_count": 188,
   "id": "e4f3e384",
   "metadata": {},
   "outputs": [
    {
     "name": "stdout",
     "output_type": "stream",
     "text": [
      "RegularExpression 1IsAn 2ImportantTopic 3InPython\n"
     ]
    }
   ],
   "source": [
    "#Question 8\n",
    "\n",
    "def split_string(input_text):\n",
    "    pattern=r'([A-Za-z]+)(\\d+)'\n",
    "    result=re.sub(pattern,r'\\1 \\2',Sample_text)\n",
    "    print(result)\n",
    "    \n",
    "\n",
    "Sample_text= \"RegularExpression1IsAn2ImportantTopic3InPython\"\n",
    "\n",
    "split_string(Sample_text)\n"
   ]
  },
  {
   "cell_type": "code",
   "execution_count": 189,
   "id": "0f47cec3",
   "metadata": {},
   "outputs": [
    {
     "name": "stdout",
     "output_type": "stream",
     "text": [
      "Regular Expression 1 Is An 2 Important Topic 3 In Python\n"
     ]
    }
   ],
   "source": [
    "#Question 9\n",
    "def split_string(input_text):\n",
    "    pattern=r\"(?<=\\w)([A-Z0-9])\"\n",
    "    matches=re.sub(pattern,r\" \\1\",Sample_Text)\n",
    "    print(matches)\n",
    "    \n",
    "Sample_Text= \"RegularExpression1IsAn2ImportantTopic3InPython\"\n",
    "split_string(Sample_text)\n",
    "\n"
   ]
  },
  {
   "cell_type": "code",
   "execution_count": 190,
   "id": "6ffd11cb",
   "metadata": {},
   "outputs": [
    {
     "name": "stdout",
     "output_type": "stream",
     "text": [
      "0      Switze\n",
      "1      Icelan\n",
      "2      Denmar\n",
      "3      Norway\n",
      "4      Canada\n",
      "        ...  \n",
      "153    Rwanda\n",
      "154     Benin\n",
      "155     Syria\n",
      "156    Burund\n",
      "157      Togo\n",
      "Name: first_five_letters, Length: 158, dtype: object\n"
     ]
    }
   ],
   "source": [
    "#Question 10-\n",
    "df1=pd.read_csv(\"happiness_score_dataset.csv\")\n",
    "df1[\"first_five_letters\"] = df1[\"Country\"].str[:6]\n",
    "print(df1[\"first_five_letters\"])"
   ]
  },
  {
   "cell_type": "code",
   "execution_count": 191,
   "id": "019d99bb",
   "metadata": {},
   "outputs": [
    {
     "name": "stdout",
     "output_type": "stream",
     "text": [
      "AlphanumericNumber_are123abc_Valid is valid\n",
      "Valid_String123 is valid\n",
      "Another_Valid123 is valid\n",
      "Invalid!@#String is invalid\n",
      "Invalid Spaces Here is invalid\n"
     ]
    }
   ],
   "source": [
    "#Question11\n",
    "def is_string_valid(input_strings):\n",
    "    pattern=r\"^[a-zA-Z0-9_]+$\"\n",
    "    for ts in input_strings:\n",
    "        if re.match(pattern,ts):\n",
    "            print(f\"{ts} is valid\")\n",
    "        else:\n",
    "            print(f\"{ts} is invalid\")\n",
    "    \n",
    "\n",
    "\n",
    "test_strings=[\"AlphanumericNumber_are123abc_Valid\", \"Valid_String123\", \"Another_Valid123\", \"Invalid!@#String\", \"Invalid Spaces Here\"]\n",
    "is_string_valid(test_strings)\n",
    "\n"
   ]
  },
  {
   "cell_type": "code",
   "execution_count": 192,
   "id": "001d7bcd",
   "metadata": {},
   "outputs": [
    {
     "name": "stdout",
     "output_type": "stream",
     "text": [
      "24June\n",
      "13thJuly\n"
     ]
    }
   ],
   "source": [
    "#Question 12 \n",
    "\n",
    "def string_starting_with_number(input_strings):\n",
    "    pattern=r\"^[\\d]+\"\n",
    "    for s in target_strings:\n",
    "        search=re.search(pattern, s)\n",
    "        if search:\n",
    "            print(s)\n",
    "    \n",
    "\n",
    "\n",
    "target_strings=[\"24June\", \"somename\", \"13thJuly\", \"invalid_string\"]\n",
    "string_starting_with_number(target_strings)\n"
   ]
  },
  {
   "cell_type": "code",
   "execution_count": 193,
   "id": "e3619831",
   "metadata": {},
   "outputs": [
    {
     "name": "stdout",
     "output_type": "stream",
     "text": [
      "809.178.589.227\n"
     ]
    }
   ],
   "source": [
    "#Question 13\n",
    "\n",
    "def remove_leading_zeros(input_ip):\n",
    "    pattern=r\"^[0]+\"\n",
    "    result=re.sub(pattern,\"\",ip_address)\n",
    "    print(result)\n",
    "    \n",
    "\n",
    "ip_address=\"00809.178.589.227\"\n",
    "remove_leading_zeros(ip_address)"
   ]
  },
  {
   "cell_type": "code",
   "execution_count": 194,
   "id": "309a8c17",
   "metadata": {},
   "outputs": [
    {
     "name": "stdout",
     "output_type": "stream",
     "text": [
      "['August 15th 1947', 'January 26th 1950']\n"
     ]
    }
   ],
   "source": [
    "#Question 14\n",
    "with open(\"august.txt\",'r')as text:\n",
    "    content=text.read()\n",
    "pattern= r'(?:January|February|March|April|May|June|July|August|September|October|November|December) \\d{1,2}(?:th) \\d{4}'\n",
    "\n",
    "dates=re.findall(pattern,content)\n",
    "print(dates)\n"
   ]
  },
  {
   "cell_type": "code",
   "execution_count": 195,
   "id": "671974a5",
   "metadata": {},
   "outputs": [
    {
     "name": "stdout",
     "output_type": "stream",
     "text": [
      "fox exists in string\n",
      "dog exists in string\n"
     ]
    }
   ],
   "source": [
    "#Question 15\n",
    "def search(literals, input_string):\n",
    "    for l in literals:\n",
    "        if re.search(l, input_string):\n",
    "            print(f\"{l} exists in string\")\n",
    "            \n",
    "Sample_text ='The quick brown fox jumps over the lazy dog.'\n",
    "literals = [\"fox\", \"dog\", \"horse\"]\n",
    "\n",
    "search(literals, Sample_text)\n",
    "\n",
    "\n"
   ]
  },
  {
   "cell_type": "code",
   "execution_count": 196,
   "id": "23b935e6",
   "metadata": {},
   "outputs": [
    {
     "name": "stdout",
     "output_type": "stream",
     "text": [
      "fox exists in string at 16\n"
     ]
    }
   ],
   "source": [
    "#Question 16\n",
    "def search(literal, input_string):\n",
    "    m = re.search(literal, input_string)\n",
    "    if m:\n",
    "        print(f\"{literal} exists in string at {m.start()}\")\n",
    "            \n",
    "Sample_text ='The quick brown fox jumps over the lazy dog.'\n",
    "literal = \"fox\"\n",
    "\n",
    "search(literal, Sample_text)\n"
   ]
  },
  {
   "cell_type": "code",
   "execution_count": 197,
   "id": "e3b8d01b",
   "metadata": {},
   "outputs": [
    {
     "name": "stdout",
     "output_type": "stream",
     "text": [
      "['exercises', 'exercises', 'exercises']\n"
     ]
    }
   ],
   "source": [
    "#Question 17\n",
    "\n",
    "def search(substr, string):\n",
    "    result=re.findall(substr,string)\n",
    "    print(result)\n",
    "    \n",
    "\n",
    "\n",
    "Sample_text='Python exercises, PHP exercises, C# exercises'\n",
    "Pattern= 'exercises'\n",
    "\n",
    "search(Pattern, Sample_text)\n"
   ]
  },
  {
   "cell_type": "code",
   "execution_count": 198,
   "id": "e5976012",
   "metadata": {},
   "outputs": [
    {
     "name": "stdout",
     "output_type": "stream",
     "text": [
      "Substring: exercises exists at 7\n",
      "Substring: exercises exists at 22\n",
      "Substring: exercises exists at 36\n"
     ]
    }
   ],
   "source": [
    "#Question 18\n",
    "def search(substr, input_string):\n",
    "    all_matches = re.finditer(substr, input_string)\n",
    "    for m in all_matches:\n",
    "        print(f\"Substring: {substr} exists at {m.start()}\")\n",
    "        \n",
    "Sample_text='Python exercises, PHP exercises, C# exercises'\n",
    "Pattern= 'exercises'\n",
    "\n",
    "search(Pattern, Sample_text)"
   ]
  },
  {
   "cell_type": "code",
   "execution_count": 199,
   "id": "ce10e871",
   "metadata": {},
   "outputs": [
    {
     "name": "stdout",
     "output_type": "stream",
     "text": [
      "27-09-1988\n"
     ]
    }
   ],
   "source": [
    "#Question 19\n",
    "\n",
    "def change_format(input_date):\n",
    "    pattern='(\\d{4})-(\\d{2})-(\\d{2})'\n",
    "    change_date=re.sub(pattern,\"\\\\3-\\\\2-\\\\1\",input_date)\n",
    "    print(change_date)\n",
    "\n",
    "Actual_date=\"1988-09-27\"\n",
    "\n",
    "change_format(Actual_date)\n"
   ]
  },
  {
   "cell_type": "code",
   "execution_count": 200,
   "id": "967081b0",
   "metadata": {},
   "outputs": [
    {
     "name": "stdout",
     "output_type": "stream",
     "text": [
      "['01.12', '145.8', '3.01', '27.25', '0.25']\n"
     ]
    }
   ],
   "source": [
    "#Question 20\n",
    "\n",
    "def find_decimals(input_text):\n",
    "    string_pattern=r'\\d+\\.\\d{1,2}\\b'\n",
    "    regex_pattern=re.compile(string_pattern)\n",
    "    result=regex_pattern.findall(Sample_Text)\n",
    "    print(result)\n",
    "\n",
    "Sample_Text= \"01.12 0132.123 2.31875 145.8 3.01 27.25 0.25\"\n",
    "find_decimals(Sample_text)\n"
   ]
  },
  {
   "cell_type": "code",
   "execution_count": 201,
   "id": "3fdf2040",
   "metadata": {},
   "outputs": [
    {
     "name": "stdout",
     "output_type": "stream",
     "text": [
      "1 is found at index: 12\n",
      "2 is found at index: 20\n",
      "3 is found at index: 25\n",
      "4 is found at index: 27\n"
     ]
    }
   ],
   "source": [
    "#Question 21\n",
    "\n",
    "def find_numbers(input_text):\n",
    "    pattern=r\"\\d+\"\n",
    "    matches=re.finditer(pattern,input_text)\n",
    "    for m in matches:\n",
    "        print(f\"{m.group()} is found at index: {m.start()}\")\n",
    "    \n",
    "\n",
    "Sample_Text=\"Alphanumeric1 Number2 are3 4abc\"\n",
    "find_numbers(Sample_Text)\n",
    "\n"
   ]
  },
  {
   "cell_type": "code",
   "execution_count": 202,
   "id": "f538f1b2",
   "metadata": {},
   "outputs": [
    {
     "name": "stdout",
     "output_type": "stream",
     "text": [
      "950\n"
     ]
    }
   ],
   "source": [
    "#Question 22\n",
    "def find_max(input_text):\n",
    "    matches = re.findall(\"\\d+\",input_text)\n",
    "    num_matches = []\n",
    "    for m in matches:\n",
    "        num_matches.append(int(m))\n",
    "        \n",
    "    print(max(num_matches))\n",
    "    \n",
    "\n",
    "Sample_Text='My marks in each semester are: 947, 896, 926, 524, 734, 950, 642'\n",
    "find_max(Sample_Text)\n",
    "\n"
   ]
  },
  {
   "cell_type": "code",
   "execution_count": 203,
   "id": "b73b87df",
   "metadata": {},
   "outputs": [
    {
     "name": "stdout",
     "output_type": "stream",
     "text": [
      "Regular Expression Is An Important Topic In Python \n"
     ]
    }
   ],
   "source": [
    "#Question 23\n",
    "\n",
    "\n",
    "def break_words(input_str):\n",
    "    pattern=r'([A-Z][a-z]+)'\n",
    "    result=re.sub(pattern,r\"\\1 \",Sample_Text) \n",
    "    print(result)\n",
    "    \n",
    "\n",
    "Sample_Text=\"RegularExpressionIsAnImportantTopicInPython\"\n",
    "\n",
    "break_words(Sample_Text)\n",
    "\n"
   ]
  },
  {
   "cell_type": "code",
   "execution_count": 204,
   "id": "a06db2ac",
   "metadata": {},
   "outputs": [
    {
     "data": {
      "text/plain": [
       "['The', 'Over', 'Dog']"
      ]
     },
     "execution_count": 204,
     "metadata": {},
     "output_type": "execute_result"
    }
   ],
   "source": [
    "#Question 24\n",
    "\n",
    "def find_uppercase_words(input_text):\n",
    "    result=re.findall(r\"\\b[A-Z][a-z]*\\b\",input_text)\n",
    "    return result\n",
    "    \n",
    "\n",
    "string ='The quick brown fox jumps Over the lazy Dog.'\n",
    "find_uppercase_words(string)\n"
   ]
  },
  {
   "cell_type": "code",
   "execution_count": 205,
   "id": "cd8f363e",
   "metadata": {},
   "outputs": [
    {
     "name": "stdout",
     "output_type": "stream",
     "text": [
      "Hello hello world\n"
     ]
    }
   ],
   "source": [
    "#Question 25\n",
    "\n",
    "def remove_duplicate_words(input_text):\n",
    "    result=r\"\\b(\\w+)(?:\\W+\\1\\b)+\"\n",
    "    x=re.sub(result,r\"\\1\",Sample_Text)\n",
    "    print(x)\n",
    "    \n",
    "\n",
    "\n",
    "Sample_Text= \"Hello hello world world\"\n",
    "remove_duplicate_words(Sample_Text)\n",
    "\n",
    "\n"
   ]
  },
  {
   "cell_type": "code",
   "execution_count": 206,
   "id": "7e82da0b",
   "metadata": {},
   "outputs": [
    {
     "name": "stdout",
     "output_type": "stream",
     "text": [
      "Valid string\n",
      "Valid string\n",
      "Valid string\n",
      "Valid string\n",
      "Valid string\n",
      "Invalid string\n",
      "Invalid string\n"
     ]
    }
   ],
   "source": [
    "#Question 26\n",
    "\n",
    "\n",
    "def check_alphanumeric(input_text):\n",
    "    pattern=r\".*[a-zA-Z0-9]$\"\n",
    "    result=re.match(pattern, input_text)\n",
    "    if result:\n",
    "        print('Valid string')\n",
    "    else:\n",
    "        print('Invalid string')\n",
    "    \n",
    "\n",
    "\n",
    "test_strings=[\"Alphanumeric\", \"character\", \"are\", \"123abc\", \"hello123\", \"world!\", \"Test123!\"]\n",
    "\n",
    "for s in test_strings:\n",
    "    check_alphanumeric(s)\n",
    "\n"
   ]
  },
  {
   "cell_type": "code",
   "execution_count": 207,
   "id": "897dcb96",
   "metadata": {},
   "outputs": [
    {
     "name": "stdout",
     "output_type": "stream",
     "text": [
      "['#Doltiwal', '#xyzabc', '#Demonetization']\n"
     ]
    }
   ],
   "source": [
    "#Question 27\n",
    "\n",
    "def extract_hastags(input_text):\n",
    "    pattern=re.findall(r\"#\\w+\",input_text)\n",
    "    print(pattern)\n",
    "    \n",
    "\n",
    "Sample_Text =\"\"\"RT @kapil_kausik: #Doltiwal I mean #xyzabc is \"hurt\" by #Demonetization as the same has rendered USELESS <ed><U+00A0><U+00BD><ed><U+00B1><U+0089> \"acquired funds\" No wo\"\"\"\n",
    "\n",
    "\n",
    "extract_hastags(Sample_Text)\n",
    "\n"
   ]
  },
  {
   "cell_type": "code",
   "execution_count": 208,
   "id": "8232cb68",
   "metadata": {},
   "outputs": [
    {
     "name": "stdout",
     "output_type": "stream",
     "text": [
      "@Jags123456 Bharat band on 28??<ed><ed>Those who  are protesting #demonetization  are all different party leaders\n"
     ]
    }
   ],
   "source": [
    " #Question 28\n",
    "    \n",
    "def remove_symbols(input_text):\n",
    "    text=re.sub(r\"<U\\+\\w{4}>\",\"\",input_text)\n",
    "    print(text)\n",
    "    \n",
    "\n",
    "Sample_Text=\"@Jags123456 Bharat band on 28??<ed><U+00A0><U+00BD><ed><U+00B8><U+0082>Those who  are protesting #demonetization  are all different party leaders\"\n",
    "remove_symbols(Sample_Text)\n"
   ]
  },
  {
   "cell_type": "code",
   "execution_count": 209,
   "id": "3d985a34",
   "metadata": {},
   "outputs": [
    {
     "name": "stdout",
     "output_type": "stream",
     "text": [
      "['12-09-1992', '15-12-1999']\n"
     ]
    }
   ],
   "source": [
    "#Question 29\n",
    "\n",
    "def extract_dates(input_file):\n",
    "    with open(input_file,'r')as input_file:\n",
    "        text=input_file.read()\n",
    "    pattern=r'\\d{2}-\\d{2}-\\d{4}'\n",
    "    extracted_dates=re.findall(pattern,text)\n",
    "    print(extracted_dates)\n",
    "    \n",
    "\n",
    "    \n",
    "extract_dates('dates.txt')\n",
    "\n",
    "\n"
   ]
  },
  {
   "cell_type": "code",
   "execution_count": 152,
   "id": "f394a5f3",
   "metadata": {},
   "outputs": [
    {
     "name": "stdout",
     "output_type": "stream",
     "text": [
      " following example creates  ArrayList  a capacity   elements. 4 elements   added   ArrayList   ArrayList  trimmed accordingly.\n"
     ]
    }
   ],
   "source": [
    "#Question 30\n",
    "\n",
    "def remove_words(input_text):\n",
    "    pattern=r\"\\b\\w{2,4}\\b\"\n",
    "    regex_pattern=re.compile(pattern)\n",
    "    result=regex_pattern.sub(\"\",input_text)\n",
    "    print(result)\n",
    "    \n",
    "\n",
    "Sample_Text= \"The following example creates an ArrayList with a capacity of 50 elements. 4 elements are then added to the ArrayList and the ArrayList is trimmed accordingly.\"\n",
    "\n",
    "remove_words(Sample_Text)\n",
    "\n",
    "\n"
   ]
  },
  {
   "cell_type": "code",
   "execution_count": null,
   "id": "8ae430c7",
   "metadata": {},
   "outputs": [],
   "source": []
  }
 ],
 "metadata": {
  "kernelspec": {
   "display_name": "Python 3 (ipykernel)",
   "language": "python",
   "name": "python3"
  },
  "language_info": {
   "codemirror_mode": {
    "name": "ipython",
    "version": 3
   },
   "file_extension": ".py",
   "mimetype": "text/x-python",
   "name": "python",
   "nbconvert_exporter": "python",
   "pygments_lexer": "ipython3",
   "version": "3.11.4"
  }
 },
 "nbformat": 4,
 "nbformat_minor": 5
}
